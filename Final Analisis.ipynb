{
 "cells": [
  {
   "cell_type": "markdown",
   "metadata": {},
   "source": [
    "# Descriptive analisis"
   ]
  },
  {
   "cell_type": "code",
   "execution_count": 59,
   "metadata": {},
   "outputs": [],
   "source": [
    "import pandas as pd\n",
    "import matplotlib\n",
    "\n",
    "clean_eluniversal = pd.read_csv('web_scrapper_curso_data_eng/files/clean_eluniversal_2020_04_13_articles.csv')\n",
    "\n",
    "clean_elpais = pd.read_csv('web_scrapper_curso_data_eng/files/clean_elpais_2020_04_14_articles.csv')\n",
    "\n"
   ]
  },
  {
   "cell_type": "code",
   "execution_count": 60,
   "metadata": {},
   "outputs": [
    {
     "data": {
      "text/html": [
       "<div>\n",
       "<style scoped>\n",
       "    .dataframe tbody tr th:only-of-type {\n",
       "        vertical-align: middle;\n",
       "    }\n",
       "\n",
       "    .dataframe tbody tr th {\n",
       "        vertical-align: top;\n",
       "    }\n",
       "\n",
       "    .dataframe thead th {\n",
       "        text-align: right;\n",
       "    }\n",
       "</style>\n",
       "<table border=\"1\" class=\"dataframe\">\n",
       "  <thead>\n",
       "    <tr style=\"text-align: right;\">\n",
       "      <th></th>\n",
       "      <th>n_tokens_title</th>\n",
       "      <th>n_tokens_body</th>\n",
       "    </tr>\n",
       "  </thead>\n",
       "  <tbody>\n",
       "    <tr>\n",
       "      <th>count</th>\n",
       "      <td>131.000000</td>\n",
       "      <td>131.000000</td>\n",
       "    </tr>\n",
       "    <tr>\n",
       "      <th>mean</th>\n",
       "      <td>5.709924</td>\n",
       "      <td>248.022901</td>\n",
       "    </tr>\n",
       "    <tr>\n",
       "      <th>std</th>\n",
       "      <td>1.850108</td>\n",
       "      <td>161.785588</td>\n",
       "    </tr>\n",
       "    <tr>\n",
       "      <th>min</th>\n",
       "      <td>1.000000</td>\n",
       "      <td>9.000000</td>\n",
       "    </tr>\n",
       "    <tr>\n",
       "      <th>25%</th>\n",
       "      <td>5.000000</td>\n",
       "      <td>142.500000</td>\n",
       "    </tr>\n",
       "    <tr>\n",
       "      <th>50%</th>\n",
       "      <td>6.000000</td>\n",
       "      <td>207.000000</td>\n",
       "    </tr>\n",
       "    <tr>\n",
       "      <th>75%</th>\n",
       "      <td>7.000000</td>\n",
       "      <td>302.000000</td>\n",
       "    </tr>\n",
       "    <tr>\n",
       "      <th>max</th>\n",
       "      <td>10.000000</td>\n",
       "      <td>1194.000000</td>\n",
       "    </tr>\n",
       "  </tbody>\n",
       "</table>\n",
       "</div>"
      ],
      "text/plain": [
       "       n_tokens_title  n_tokens_body\n",
       "count      131.000000     131.000000\n",
       "mean         5.709924     248.022901\n",
       "std          1.850108     161.785588\n",
       "min          1.000000       9.000000\n",
       "25%          5.000000     142.500000\n",
       "50%          6.000000     207.000000\n",
       "75%          7.000000     302.000000\n",
       "max         10.000000    1194.000000"
      ]
     },
     "execution_count": 60,
     "metadata": {},
     "output_type": "execute_result"
    }
   ],
   "source": [
    "clean_eluniversal.describe()"
   ]
  },
  {
   "cell_type": "code",
   "execution_count": 61,
   "metadata": {},
   "outputs": [
    {
     "data": {
      "text/html": [
       "<div>\n",
       "<style scoped>\n",
       "    .dataframe tbody tr th:only-of-type {\n",
       "        vertical-align: middle;\n",
       "    }\n",
       "\n",
       "    .dataframe tbody tr th {\n",
       "        vertical-align: top;\n",
       "    }\n",
       "\n",
       "    .dataframe thead th {\n",
       "        text-align: right;\n",
       "    }\n",
       "</style>\n",
       "<table border=\"1\" class=\"dataframe\">\n",
       "  <thead>\n",
       "    <tr style=\"text-align: right;\">\n",
       "      <th></th>\n",
       "      <th>n_tokens_title</th>\n",
       "      <th>n_tokens_body</th>\n",
       "    </tr>\n",
       "  </thead>\n",
       "  <tbody>\n",
       "    <tr>\n",
       "      <th>count</th>\n",
       "      <td>55.000000</td>\n",
       "      <td>55.000000</td>\n",
       "    </tr>\n",
       "    <tr>\n",
       "      <th>mean</th>\n",
       "      <td>7.454545</td>\n",
       "      <td>714.018182</td>\n",
       "    </tr>\n",
       "    <tr>\n",
       "      <th>std</th>\n",
       "      <td>2.515273</td>\n",
       "      <td>865.017180</td>\n",
       "    </tr>\n",
       "    <tr>\n",
       "      <th>min</th>\n",
       "      <td>3.000000</td>\n",
       "      <td>46.000000</td>\n",
       "    </tr>\n",
       "    <tr>\n",
       "      <th>25%</th>\n",
       "      <td>6.000000</td>\n",
       "      <td>386.000000</td>\n",
       "    </tr>\n",
       "    <tr>\n",
       "      <th>50%</th>\n",
       "      <td>8.000000</td>\n",
       "      <td>461.000000</td>\n",
       "    </tr>\n",
       "    <tr>\n",
       "      <th>75%</th>\n",
       "      <td>9.000000</td>\n",
       "      <td>671.000000</td>\n",
       "    </tr>\n",
       "    <tr>\n",
       "      <th>max</th>\n",
       "      <td>15.000000</td>\n",
       "      <td>5083.000000</td>\n",
       "    </tr>\n",
       "  </tbody>\n",
       "</table>\n",
       "</div>"
      ],
      "text/plain": [
       "       n_tokens_title  n_tokens_body\n",
       "count       55.000000      55.000000\n",
       "mean         7.454545     714.018182\n",
       "std          2.515273     865.017180\n",
       "min          3.000000      46.000000\n",
       "25%          6.000000     386.000000\n",
       "50%          8.000000     461.000000\n",
       "75%          9.000000     671.000000\n",
       "max         15.000000    5083.000000"
      ]
     },
     "execution_count": 61,
     "metadata": {},
     "output_type": "execute_result"
    }
   ],
   "source": [
    "clean_elpais.describe()"
   ]
  },
  {
   "cell_type": "code",
   "execution_count": 62,
   "metadata": {},
   "outputs": [
    {
     "data": {
      "text/html": [
       "<div>\n",
       "<style scoped>\n",
       "    .dataframe tbody tr th:only-of-type {\n",
       "        vertical-align: middle;\n",
       "    }\n",
       "\n",
       "    .dataframe tbody tr th {\n",
       "        vertical-align: top;\n",
       "    }\n",
       "\n",
       "    .dataframe thead th {\n",
       "        text-align: right;\n",
       "    }\n",
       "</style>\n",
       "<table border=\"1\" class=\"dataframe\">\n",
       "  <thead>\n",
       "    <tr style=\"text-align: right;\">\n",
       "      <th></th>\n",
       "      <th>uid</th>\n",
       "      <th>body</th>\n",
       "      <th>title</th>\n",
       "      <th>url</th>\n",
       "      <th>newspaper_uid</th>\n",
       "      <th>host</th>\n",
       "      <th>n_tokens_title</th>\n",
       "      <th>n_tokens_body</th>\n",
       "    </tr>\n",
       "  </thead>\n",
       "  <tbody>\n",
       "    <tr>\n",
       "      <th>18</th>\n",
       "      <td>4b119101c55005bf492fa159f739a672</td>\n",
       "      <td>Feligreses acuden a las celebraciones de Seman...</td>\n",
       "      <td>Para qué sirven las malas noticias</td>\n",
       "      <td>https://elpais.com//internacional/2020-04-11/p...</td>\n",
       "      <td>elpais</td>\n",
       "      <td>elpais.com</td>\n",
       "      <td>3</td>\n",
       "      <td>707</td>\n",
       "    </tr>\n",
       "    <tr>\n",
       "      <th>30</th>\n",
       "      <td>841aa06bcef75ca7a337ee05dfa7b04b</td>\n",
       "      <td>Hace hoy medio siglo que el Apolo 13 estalló. ...</td>\n",
       "      <td>50 años de ‘Houston, tenemos un problema’</td>\n",
       "      <td>https://elpais.com//ciencia/2020-04-13/hace-ho...</td>\n",
       "      <td>elpais</td>\n",
       "      <td>elpais.com</td>\n",
       "      <td>3</td>\n",
       "      <td>780</td>\n",
       "    </tr>\n",
       "    <tr>\n",
       "      <th>44</th>\n",
       "      <td>29ab9dbefc94fd76932f8bf03966bd32</td>\n",
       "      <td>Combo de imágenes de los manifestantes en Beir...</td>\n",
       "      <td>La protesta se resiste a morir</td>\n",
       "      <td>https://elpais.com//internacional/2020-04-14/l...</td>\n",
       "      <td>elpais</td>\n",
       "      <td>elpais.com</td>\n",
       "      <td>3</td>\n",
       "      <td>1293</td>\n",
       "    </tr>\n",
       "  </tbody>\n",
       "</table>\n",
       "</div>"
      ],
      "text/plain": [
       "                                 uid  \\\n",
       "18  4b119101c55005bf492fa159f739a672   \n",
       "30  841aa06bcef75ca7a337ee05dfa7b04b   \n",
       "44  29ab9dbefc94fd76932f8bf03966bd32   \n",
       "\n",
       "                                                 body  \\\n",
       "18  Feligreses acuden a las celebraciones de Seman...   \n",
       "30  Hace hoy medio siglo que el Apolo 13 estalló. ...   \n",
       "44  Combo de imágenes de los manifestantes en Beir...   \n",
       "\n",
       "                                        title  \\\n",
       "18         Para qué sirven las malas noticias   \n",
       "30  50 años de ‘Houston, tenemos un problema’   \n",
       "44             La protesta se resiste a morir   \n",
       "\n",
       "                                                  url newspaper_uid  \\\n",
       "18  https://elpais.com//internacional/2020-04-11/p...        elpais   \n",
       "30  https://elpais.com//ciencia/2020-04-13/hace-ho...        elpais   \n",
       "44  https://elpais.com//internacional/2020-04-14/l...        elpais   \n",
       "\n",
       "          host  n_tokens_title  n_tokens_body  \n",
       "18  elpais.com               3            707  \n",
       "30  elpais.com               3            780  \n",
       "44  elpais.com               3           1293  "
      ]
     },
     "execution_count": 62,
     "metadata": {},
     "output_type": "execute_result"
    }
   ],
   "source": [
    "clean_elpais.loc[clean_elpais['n_tokens_title'] == 3]"
   ]
  },
  {
   "cell_type": "code",
   "execution_count": 63,
   "metadata": {},
   "outputs": [
    {
     "data": {
      "text/plain": [
       "<matplotlib.axes._subplots.AxesSubplot at 0x7f1b114ef670>"
      ]
     },
     "execution_count": 63,
     "metadata": {},
     "output_type": "execute_result"
    },
    {
     "data": {
      "image/png": "[encoded data removed]",
      "text/plain": [
       "<Figure size 432x288 with 1 Axes>"
      ]
     },
     "metadata": {
      "needs_background": "light"
     },
     "output_type": "display_data"
    }
   ],
   "source": [
    "# k. es negro\n",
    "# r. es rojo\n",
    "\n",
    "# puede ser posible necesitar esto en jupyter notebook\n",
    "# %matplotlib inline\n",
    "# para que muestre los graficos directamente en jupyter notebook\n",
    "\n",
    "\n",
    "clean_elpais['n_tokens_title'].plot(style='k.')\n",
    "clean_eluniversal['n_tokens_title'].plot(style='r.')\n"
   ]
  },
  {
   "cell_type": "code",
   "execution_count": 64,
   "metadata": {},
   "outputs": [],
   "source": [
    "\n",
    "\n",
    "# clean_elpais.loc[clean_elpais['n_tokens_body'] > 3000]"
   ]
  },
  {
   "cell_type": "code",
   "execution_count": 65,
   "metadata": {},
   "outputs": [],
   "source": [
    "# borrando los datos despreciables que estan demasiado lejos de la media\n",
    "\n",
    "# clean_elpais.drop(clean_elpais.index[clean_elpais['n_tokens_body'] > 3000], inplace=True)"
   ]
  },
  {
   "cell_type": "code",
   "execution_count": 66,
   "metadata": {},
   "outputs": [
    {
     "data": {
      "text/plain": [
       "<matplotlib.axes._subplots.AxesSubplot at 0x7f1b115a3910>"
      ]
     },
     "execution_count": 66,
     "metadata": {},
     "output_type": "execute_result"
    },
    {
     "data": {
      "image/png": "[encoded data removed]",
      "text/plain": [
       "<Figure size 432x288 with 1 Axes>"
      ]
     },
     "metadata": {
      "needs_background": "light"
     },
     "output_type": "display_data"
    }
   ],
   "source": [
    "clean_elpais['n_tokens_body'].plot(style='k.')\n",
    "\n",
    "clean_eluniversal['n_tokens_body'].plot(style='r.')"
   ]
  },
  {
   "cell_type": "code",
   "execution_count": 67,
   "metadata": {},
   "outputs": [
    {
     "data": {
      "text/plain": [
       "<matplotlib.axes._subplots.AxesSubplot at 0x7f1b1172ea00>"
      ]
     },
     "execution_count": 67,
     "metadata": {},
     "output_type": "execute_result"
    },
    {
     "data": {
      "image/png": "[encoded data removed]",
      "text/plain": [
       "<Figure size 432x288 with 1 Axes>"
      ]
     },
     "metadata": {
      "needs_background": "light"
     },
     "output_type": "display_data"
    }
   ],
   "source": [
    "clean_elpais['n_tokens_body'].plot(style='k.', logy=True)\n",
    "\n",
    "\n",
    "clean_eluniversal['n_tokens_body'].plot(style='r.',logy=True)"
   ]
  },
  {
   "cell_type": "code",
   "execution_count": 68,
   "metadata": {},
   "outputs": [
    {
     "data": {
      "text/plain": [
       "newspaper_uid\n",
       "elpais         [[AxesSubplot(0.125,0.125;0.336957x0.755), Axe...\n",
       "eluniversal    [[AxesSubplot(0.125,0.125;0.336957x0.755), Axe...\n",
       "dtype: object"
      ]
     },
     "execution_count": 68,
     "metadata": {},
     "output_type": "execute_result"
    },
    {
     "data": {
      "image/png": "[encoded data removed]",
      "text/plain": [
       "<Figure size 432x288 with 2 Axes>"
      ]
     },
     "metadata": {
      "needs_background": "light"
     },
     "output_type": "display_data"
    },
    {
     "data": {
      "image/png": "[encoded data removed]",
      "text/plain": [
       "<Figure size 432x288 with 2 Axes>"
      ]
     },
     "metadata": {
      "needs_background": "light"
     },
     "output_type": "display_data"
    }
   ],
   "source": [
    "all_newspaper = pd.concat([clean_eluniversal, clean_elpais])\n",
    "\n",
    "\n",
    "grouped = all_newspaper.groupby('newspaper_uid')\n",
    "\n",
    "grouped.hist()"
   ]
  },
  {
   "cell_type": "code",
   "execution_count": 69,
   "metadata": {},
   "outputs": [
    {
     "data": {
      "text/html": [
       "<div>\n",
       "<style scoped>\n",
       "    .dataframe tbody tr th:only-of-type {\n",
       "        vertical-align: middle;\n",
       "    }\n",
       "\n",
       "    .dataframe tbody tr th {\n",
       "        vertical-align: top;\n",
       "    }\n",
       "\n",
       "    .dataframe thead th {\n",
       "        text-align: right;\n",
       "    }\n",
       "</style>\n",
       "<table border=\"1\" class=\"dataframe\">\n",
       "  <thead>\n",
       "    <tr style=\"text-align: right;\">\n",
       "      <th></th>\n",
       "      <th>min</th>\n",
       "      <th>mean</th>\n",
       "      <th>max</th>\n",
       "    </tr>\n",
       "    <tr>\n",
       "      <th>newspaper_uid</th>\n",
       "      <th></th>\n",
       "      <th></th>\n",
       "      <th></th>\n",
       "    </tr>\n",
       "  </thead>\n",
       "  <tbody>\n",
       "    <tr>\n",
       "      <th>elpais</th>\n",
       "      <td>46</td>\n",
       "      <td>714.018182</td>\n",
       "      <td>5083</td>\n",
       "    </tr>\n",
       "    <tr>\n",
       "      <th>eluniversal</th>\n",
       "      <td>9</td>\n",
       "      <td>248.022901</td>\n",
       "      <td>1194</td>\n",
       "    </tr>\n",
       "  </tbody>\n",
       "</table>\n",
       "</div>"
      ],
      "text/plain": [
       "               min        mean   max\n",
       "newspaper_uid                       \n",
       "elpais          46  714.018182  5083\n",
       "eluniversal      9  248.022901  1194"
      ]
     },
     "execution_count": 69,
     "metadata": {},
     "output_type": "execute_result"
    }
   ],
   "source": [
    "grouped['n_tokens_body'].agg(['min','mean','max'])"
   ]
  },
  {
   "cell_type": "code",
   "execution_count": 70,
   "metadata": {},
   "outputs": [
    {
     "data": {
      "text/plain": [
       "newspaper_uid\n",
       "elpais         AxesSubplot(0.125,0.125;0.775x0.755)\n",
       "eluniversal    AxesSubplot(0.125,0.125;0.775x0.755)\n",
       "dtype: object"
      ]
     },
     "execution_count": 70,
     "metadata": {},
     "output_type": "execute_result"
    },
    {
     "data": {
      "image/png": "[encoded data removed]",
      "text/plain": [
       "<Figure size 432x288 with 1 Axes>"
      ]
     },
     "metadata": {
      "needs_background": "light"
     },
     "output_type": "display_data"
    },
    {
     "data": {
      "image/png": "[encoded data removed]",
      "text/plain": [
       "<Figure size 432x288 with 1 Axes>"
      ]
     },
     "metadata": {
      "needs_background": "light"
     },
     "output_type": "display_data"
    }
   ],
   "source": [
    "grouped.plot()"
   ]
  },
  {
   "cell_type": "code",
   "execution_count": null,
   "metadata": {},
   "outputs": [],
   "source": []
  }
 ],
 "metadata": {
  "kernelspec": {
   "display_name": "Python 3",
   "language": "python",
   "name": "python3"
  },
  "language_info": {
   "codemirror_mode": {
    "name": "ipython",
    "version": 3
   },
   "file_extension": ".py",
   "mimetype": "text/x-python",
   "name": "python",
   "nbconvert_exporter": "python",
   "pygments_lexer": "ipython3",
   "version": "3.8.2"
  }
 },
 "nbformat": 4,
 "nbformat_minor": 4
}
